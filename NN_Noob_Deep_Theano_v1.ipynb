{
 "cells": [
  {
   "cell_type": "markdown",
   "metadata": {
    "toc": "true"
   },
   "source": [
    "# Table of Contents\n",
    " <p><div class=\"lev1\"><a href=\"#MultiLayer-NN\"><span class=\"toc-item-num\">1&nbsp;&nbsp;</span>MultiLayer NN</a></div>"
   ]
  },
  {
   "cell_type": "code",
   "execution_count": 4,
   "metadata": {
    "collapsed": false
   },
   "outputs": [
    {
     "name": "stdout",
     "output_type": "stream",
     "text": [
      "Populating the interactive namespace from numpy and matplotlib\n"
     ]
    }
   ],
   "source": [
    "%pylab inline"
   ]
  },
  {
   "cell_type": "code",
   "execution_count": 5,
   "metadata": {
    "collapsed": true
   },
   "outputs": [],
   "source": [
    "import numpy"
   ]
  },
  {
   "cell_type": "code",
   "execution_count": 6,
   "metadata": {
    "collapsed": false
   },
   "outputs": [],
   "source": [
    "import theano"
   ]
  },
  {
   "cell_type": "code",
   "execution_count": 7,
   "metadata": {
    "collapsed": true
   },
   "outputs": [],
   "source": [
    "from theano import pp"
   ]
  },
  {
   "cell_type": "code",
   "execution_count": 8,
   "metadata": {
    "collapsed": true
   },
   "outputs": [],
   "source": [
    "import theano.tensor as T"
   ]
  },
  {
   "cell_type": "code",
   "execution_count": 9,
   "metadata": {
    "collapsed": true
   },
   "outputs": [],
   "source": [
    "from theano import function"
   ]
  },
  {
   "cell_type": "code",
   "execution_count": 10,
   "metadata": {
    "collapsed": false
   },
   "outputs": [],
   "source": [
    "import pickle\n",
    "import gzip\n",
    "import base64\n",
    "\n",
    "def load_data():\n",
    "    f = gzip.open('data/mnist.pkl.gz', 'rb')\n",
    "    training_data, validation_data, test_data = pickle.load((f))\n",
    "    f.close()\n",
    "    return (training_data, validation_data, test_data)\n",
    "\n",
    "def load_data_wrapper():\n",
    "    \"\"\"\n",
    "    ``training_data`` is a list containing 50,000\n",
    "    2-tuples ``(x, y)``.  ``x`` is a 784-dimensional numpy.ndarray\n",
    "    containing the input image.  ``y`` is a 10-dimensional\n",
    "    numpy.ndarray representing the unit vector corresponding to the\n",
    "    correct digit for ``x``.\n",
    "\n",
    "    ``validation_data`` and ``test_data`` are lists containing 10,000\n",
    "    2-tuples ``(x, y)``.  In each case, ``x`` is a 784-dimensional\n",
    "    numpy.ndarry containing the input image, and ``y`` is the\n",
    "    corresponding classification, i.e., the digit values (integers)\n",
    "    corresponding to ``x``.\n",
    "\n",
    "    \"\"\"\n",
    "    tr_d, va_d, te_d = load_data()\n",
    "    training_inputs = [np.reshape(x, (784, 1)) for x in tr_d[0]]\n",
    "    training_results = [vectorized_result(y) for y in tr_d[1]]\n",
    "    training_data = zip(training_inputs, training_results)\n",
    "    validation_inputs = [np.reshape(x, (784, 1)) for x in va_d[0]]\n",
    "    validation_data = zip(validation_inputs, va_d[1])\n",
    "    test_inputs = [np.reshape(x, (784, 1)) for x in te_d[0]]\n",
    "    test_data = zip(test_inputs, te_d[1])\n",
    "    return (training_data, validation_data, test_data)\n",
    "\n",
    "def vectorized_result(j):\n",
    "    \"\"\"This is used to convert a digit\n",
    "    (0...9) into a corresponding desired output from the neural\n",
    "    network.\"\"\"\n",
    "    e = np.zeros((10, 1))\n",
    "    e[j] = 1.0\n",
    "    return e"
   ]
  },
  {
   "cell_type": "markdown",
   "metadata": {},
   "source": [
    "\n",
    "\n",
    "# MultiLayer NN"
   ]
  },
  {
   "cell_type": "code",
   "execution_count": 14,
   "metadata": {
    "code_folding": [
     0
    ],
    "collapsed": false
   },
   "outputs": [],
   "source": [
    "class Neural_Network_PM(object):\n",
    "    def __init__(self, arch):        \n",
    "        #Define Hyperparameters\n",
    "        self.num_layers = len(arch)\n",
    "        self.input_layer_size = arch[0]\n",
    "        self.output_layer_size = arch[-1]\n",
    "        self.num_hidden_layers = len(arch)-2\n",
    "        self.costs = []\n",
    "        \n",
    "        #Weights map from Layer n to n-1\n",
    "        self.weights = [np.random.randn(y, x)\n",
    "                        for x, y in zip(arch[:-1], arch[1:])]\n",
    "        \n",
    "    def forward(self, X):\n",
    "        #Return the output of the network if X is the input\n",
    "        for w in zip(self.weights):\n",
    "            X = self.sigmoid(np.dot(w, X))\n",
    "        return X\n",
    "        \n",
    "    def sigmoid(self, z):\n",
    "        #Apply sigmoid activation function to scalar, vector, or matrix\n",
    "        return 1/(1+np.exp(-z))\n",
    "    \n",
    "    def sigmoid_prime(self,z):\n",
    "        #Gradient of sigmoid\n",
    "        return np.exp(-z)/((1+np.exp(-z))**2)\n",
    "    \n",
    "    def cost_function(self, X, y):\n",
    "        #Compute cost for given X,y, use weights already stored in class.\n",
    "        self.yHat = self.forward(X)\n",
    "        J = 0.5*sum((y-self.yHat)**2)\n",
    "        self.costs.append(J) \n",
    "        return J\n",
    "    \n",
    "    def cost_function_by_epoch(self, test_data, n_test):\n",
    "        y_hat = [(np.argmax(n_net.forward(x))) for (x, y) in test_data[0:n_test]]\n",
    "        y = [(y) for (x, y) in test_data[0:n_test]]\n",
    "        #[a - b for a, b in zip([3, 7], [1, 2])]\n",
    "        costs = [0.5*((a - b)**2) for a, b in zip(y, y_hat)]\n",
    "        self.costs.append(sum(costs)/n_test)\n",
    "        return self.costs[-1]\n",
    "    \n",
    "    def SGD_incremental(self, training_data, epochs, learning_rate, test_data=None):\n",
    "        \"\"\"Train the neural network using gradient descent, one sample at a time. \n",
    "        If ``test_data`` is provided then the network will be evaluated against \n",
    "        the test data after each epoch\"\"\"\n",
    "        if test_data: n_test = len(test_data)\n",
    "        n = len(training_data)\n",
    "        for j in xrange(epochs):\n",
    "            random.shuffle(training_data)\n",
    "            for k in xrange(0, n):\n",
    "                next_sample = training_data[k:k+1]\n",
    "                self.process_batch(next_sample, learning_rate)     \n",
    "            if test_data:\n",
    "                print (\"Epoch {0}: Score {1} / {2}\".format(j, self.evaluate(test_data, n_test), n_test))                \n",
    "            else:\n",
    "                print (\"Epoch {0} complete\".format(j))\n",
    "                \n",
    "    def SGD_batchwise(self, training_data, epochs, batch_size, learning_rate,\n",
    "            test_data=None):\n",
    "        \"\"\"Train the neural network using batch-wise \n",
    "        gradient descent. If ``test_data`` is provided then the\n",
    "        network will be evaluated against the test data after each\n",
    "        epoch, and partial progress printed out.\"\"\"\n",
    "        if test_data: n_test = len(test_data)\n",
    "        n = len(training_data)\n",
    "        for j in xrange(epochs):\n",
    "            random.shuffle(training_data)\n",
    "            batches = [\n",
    "                training_data[k:k+batch_size]\n",
    "                for k in xrange(0, n, batch_size)]\n",
    "            for batch in batches:\n",
    "                self.process_batch(batch, learning_rate)\n",
    "            if test_data:\n",
    "                print (\"Epoch {0}: Score {1} / {2}\".format(j, self.evaluate(test_data, n_test), n_test))\n",
    "            else:\n",
    "                print (\"Epoch {0} complete\".format(j))\n",
    " \n",
    "    def GD(self, training_data, epochs, learning_rate, test_data=None):\n",
    "        \"\"\"Train the neural network using batch-wise \n",
    "        gradient descent. If ``test_data`` is provided then the\n",
    "        network will be evaluated against the test data after each\n",
    "        epoch, and partial progress printed out.\"\"\"\n",
    "        if test_data: n_test = len(test_data)\n",
    "        n = len(training_data)\n",
    "        for j in xrange(epochs):\n",
    "            random.shuffle(training_data)\n",
    "            self.process_input(training_data, learning_rate)\n",
    "            if test_data:\n",
    "                print (\"Epoch {0}: Score {1} / {2}\".format(j, self.evaluate(test_data, n_test), n_test))\n",
    "            else:\n",
    "                print (\"Epoch {0} complete\".format(j))\n",
    "                \n",
    "    def process_input(self, batch, learning_rate):\n",
    "        \"\"\"Update the network's weights by applying\n",
    "        gradient descent using backpropagation to a single batch.\n",
    "        \"\"\"\n",
    "        base_w = [np.zeros(w.shape) for w in self.weights]\n",
    "        count=0\n",
    "        eta=learning_rate   \n",
    "        for x, y in batch:\n",
    "            delta_error_w = self.backprop(x, y)\n",
    "            updated_w = [nw+dnw for nw, dnw in zip(base_w, delta_error_w)]\n",
    "            self.weights = [w-(eta/len(batch))*nw\n",
    "                        for w, nw in zip(self.weights, updated_w)]\n",
    "            count=count+1\n",
    "        print (\"Process {0} inputs backprop \".format(count))    \n",
    "                \n",
    "        \n",
    "    def process_batch(self, batch, learning_rate):\n",
    "        \"\"\"Update the network's weights by applying\n",
    "        gradient descent using backpropagation to a single batch.\n",
    "        \"\"\"\n",
    "        base_w = [np.zeros(w.shape) for w in self.weights]\n",
    "        count=0\n",
    "        for x, y in batch:\n",
    "            delta_error_w = self.backprop(x, y)\n",
    "            updated_w = [nw+dnw for nw, dnw in zip(base_w, delta_error_w)]\n",
    "            count=count+1\n",
    "        print (\"Process {0} inputs backprop \".format(count))    \n",
    "        eta=learning_rate   \n",
    "        self.weights = [w-(eta/len(batch))*nw\n",
    "                        for w, nw in zip(self.weights, updated_w)]\n",
    "        \n",
    "    def backprop(self, x, y):\n",
    "        \"\"\"Return ``( delta_w)`` representing the\n",
    "        gradient for the cost function C_x. \"\"\"\n",
    "        delta_w = [np.zeros(w.shape) for w in self.weights]\n",
    "        # feedforward\n",
    "        activation = x\n",
    "        activations = [x] # list to store all the activations, layer by layer\n",
    "        zs = [] # list to store all the activation (z) vectors, layer by layer\n",
    "        for w in (self.weights):\n",
    "            z = np.dot(w, activation)\n",
    "            zs.append(z)\n",
    "            activation = self.sigmoid(z)\n",
    "            activations.append(activation)\n",
    "        \n",
    "        # backward pass\n",
    "        delta = self.cost_derivative(activations[-1], y) * \\\n",
    "            self.sigmoid_prime(zs[-1])\n",
    "        #print \"delta is: \"\n",
    "        #print delta    \n",
    "        delta_w[-1] = np.dot(delta, activations[-2].transpose())\n",
    "\n",
    "        for l in xrange(2, self.num_layers):\n",
    "            z = zs[-l]\n",
    "            sp = self.sigmoid_prime(z)\n",
    "            #print \"sp is: \"\n",
    "            #print sp\n",
    "            #print \"first part of dot operation is: \"\n",
    "            #print self.weights[-l].transpose() \n",
    "            step1 = np.dot(self.weights[-l+1].transpose(), delta)\n",
    "            #print \"step 1 is:\"\n",
    "            #print step1\n",
    "            delta = step1 * sp\n",
    "            delta_w[-l] = np.dot(delta, activations[-l-1].transpose())\n",
    "        return (delta_w)\n",
    "\n",
    "    def evaluate(self, test_data, n_test):\n",
    "        \"\"\"Return the number of test inputs for which the neural\n",
    "        network outputs the correct result. Note that the neural\n",
    "        network's output is assumed to be the index of whichever\n",
    "        neuron in the final layer has the highest activation.\"\"\"\n",
    "        self.cost_function_by_epoch(test_data, n_test)\n",
    "        test_results = [(np.argmax(self.forward(x)), y)\n",
    "                        for (x, y) in test_data]\n",
    "        return sum(int(x == y) for (x, y) in test_results)\n",
    "\n",
    "    def cost_derivative(self, output_activations, y):\n",
    "        \"\"\"Return the vector of partial derivatives \\partial C_x /\n",
    "        \\partial a for the output activations.\"\"\"\n",
    "        return (output_activations-y)          "
   ]
  },
  {
   "cell_type": "markdown",
   "metadata": {},
   "source": [
    "New code from scratch based on Theano"
   ]
  },
  {
   "cell_type": "code",
   "execution_count": 15,
   "metadata": {
    "collapsed": false
   },
   "outputs": [
    {
     "ename": "SyntaxError",
     "evalue": "invalid syntax (<ipython-input-15-b638208ec67e>, line 22)",
     "output_type": "error",
     "traceback": [
      "\u001b[0;36m  File \u001b[0;32m\"<ipython-input-15-b638208ec67e>\"\u001b[0;36m, line \u001b[0;32m22\u001b[0m\n\u001b[0;31m    size = (x ,y) for x, y in zip(arch[:-1], arch[1:])\u001b[0m\n\u001b[0m                    ^\u001b[0m\n\u001b[0;31mSyntaxError\u001b[0m\u001b[0;31m:\u001b[0m invalid syntax\n"
     ]
    }
   ],
   "source": [
    "from theano.tensor.nnet import sigmoid\n",
    "from theano.tensor import tanh\n",
    "\n",
    "\n",
    "class MLP(object):\n",
    "    def __init__(self, arch):        \n",
    "        #Define Hyperparameters\n",
    "        self.num_layers = len(arch)\n",
    "        self.input_layer_size = arch[0]\n",
    "        self.output_layer_size = arch[-1]\n",
    "        self.num_hidden_layers = len(arch)-2 #discounting the input (first) and output (last) layers\n",
    "        self.costs = []\n",
    "        \n",
    "        #Weights map from Layer n to n-1\n",
    "        self.weights = [np.random.randn(y, x)\n",
    "                        for x, y in zip(arch[:-1], arch[1:])]\n",
    "        \n",
    "        W_value = numpy.asarray(\n",
    "            rng.uniform(\n",
    "                low=-numpy.sqrt(6. / (x + y)),\n",
    "                high=numpy.sqrt(6. / (x + y)),\n",
    "                size = (x ,y) for x, y in zip(arch[:-1], arch[1:])\n",
    "            )\n",
    "        )\n",
    "        \n",
    "        W = theano.shared(values=W_value, name='W', borrow=True)\n",
    "        \n",
    "        b_values = numpy.zeros((,), dtype=theano.config.floatX)\n",
    "        b = theano.shared(value=b_values, name='b', borrow=True)\n",
    "   \n",
    "        \n",
    "        self.W = W\n",
    "        \n",
    "    def forward(self, X):\n",
    "        #Return the output of the network if X is the input\n",
    "        for w in zip(self.weights):\n",
    "            X = self.sigmoid(np.dot(w, X))\n",
    "        return X\n",
    "        \n",
    "    def sigmoid(self, z):\n",
    "        #Apply sigmoid activation function to scalar, vector, or matrix\n",
    "        return 1/(1+np.exp(-z))\n",
    "    \n",
    "    def sigmoid_prime(self,z):\n",
    "        #Gradient of sigmoid\n",
    "        return np.exp(-z)/((1+np.exp(-z))**2)\n",
    "    \n",
    "    def cost_function(self, X, y):\n",
    "        #Compute cost for given X,y, use weights already stored in class.\n",
    "        self.yHat = self.forward(X)\n",
    "        J = 0.5*sum((y-self.yHat)**2)\n",
    "        self.costs.append(J) \n",
    "        return J\n",
    "    \n",
    "    def cost_function_by_epoch(self, test_data, n_test):\n",
    "        y_hat = [(np.argmax(n_net.forward(x))) for (x, y) in test_data[0:n_test]]\n",
    "        y = [(y) for (x, y) in test_data[0:n_test]]\n",
    "        #[a - b for a, b in zip([3, 7], [1, 2])]\n",
    "        costs = [0.5*((a - b)**2) for a, b in zip(y, y_hat)]\n",
    "        self.costs.append(sum(costs)/n_test)\n",
    "        return self.costs[-1]\n",
    "    \n",
    "    def SGD_incremental(self, training_data, epochs, learning_rate, test_data=None):\n",
    "        \"\"\"Train the neural network using gradient descent, one sample at a time. \n",
    "        If ``test_data`` is provided then the network will be evaluated against \n",
    "        the test data after each epoch\"\"\"\n",
    "        if test_data: n_test = len(test_data)\n",
    "        n = len(training_data)\n",
    "        for j in xrange(epochs):\n",
    "            random.shuffle(training_data)\n",
    "            for k in xrange(0, n):\n",
    "                next_sample = training_data[k:k+1]\n",
    "                self.process_batch(next_sample, learning_rate)     \n",
    "            if test_data:\n",
    "                print (\"Epoch {0}: Score {1} / {2}\".format(j, self.evaluate(test_data, n_test), n_test))                \n",
    "            else:\n",
    "                print (\"Epoch {0} complete\".format(j))\n",
    "                \n",
    "    def SGD_batchwise(self, training_data, epochs, batch_size, learning_rate,\n",
    "            test_data=None):\n",
    "        \"\"\"Train the neural network using batch-wise \n",
    "        gradient descent. If ``test_data`` is provided then the\n",
    "        network will be evaluated against the test data after each\n",
    "        epoch, and partial progress printed out.\"\"\"\n",
    "        if test_data: n_test = len(test_data)\n",
    "        n = len(training_data)\n",
    "        for j in xrange(epochs):\n",
    "            random.shuffle(training_data)\n",
    "            batches = [\n",
    "                training_data[k:k+batch_size]\n",
    "                for k in xrange(0, n, batch_size)]\n",
    "            for batch in batches:\n",
    "                self.process_batch(batch, learning_rate)\n",
    "            if test_data:\n",
    "                print (\"Epoch {0}: Score {1} / {2}\".format(j, self.evaluate(test_data, n_test), n_test))\n",
    "            else:\n",
    "                print (\"Epoch {0} complete\".format(j))\n",
    " \n",
    "    def GD(self, training_data, epochs, learning_rate, test_data=None):\n",
    "        \"\"\"Train the neural network using batch-wise \n",
    "        gradient descent. If ``test_data`` is provided then the\n",
    "        network will be evaluated against the test data after each\n",
    "        epoch, and partial progress printed out.\"\"\"\n",
    "        if test_data: n_test = len(test_data)\n",
    "        n = len(training_data)\n",
    "        for j in xrange(epochs):\n",
    "            random.shuffle(training_data)\n",
    "            self.process_input(training_data, learning_rate)\n",
    "            if test_data:\n",
    "                print (\"Epoch {0}: Score {1} / {2}\".format(j, self.evaluate(test_data, n_test), n_test))\n",
    "            else:\n",
    "                print (\"Epoch {0} complete\".format(j))\n",
    "                \n",
    "    def process_input(self, batch, learning_rate):\n",
    "        \"\"\"Update the network's weights by applying\n",
    "        gradient descent using backpropagation to a single batch.\n",
    "        \"\"\"\n",
    "        base_w = [np.zeros(w.shape) for w in self.weights]\n",
    "        count=0\n",
    "        eta=learning_rate   \n",
    "        for x, y in batch:\n",
    "            delta_error_w = self.backprop(x, y)\n",
    "            updated_w = [nw+dnw for nw, dnw in zip(base_w, delta_error_w)]\n",
    "            self.weights = [w-(eta/len(batch))*nw\n",
    "                        for w, nw in zip(self.weights, updated_w)]\n",
    "            count=count+1\n",
    "        print (\"Process {0} inputs backprop \".format(count))    \n",
    "                \n",
    "        \n",
    "    def process_batch(self, batch, learning_rate):\n",
    "        \"\"\"Update the network's weights by applying\n",
    "        gradient descent using backpropagation to a single batch.\n",
    "        \"\"\"\n",
    "        base_w = [np.zeros(w.shape) for w in self.weights]\n",
    "        count=0\n",
    "        for x, y in batch:\n",
    "            delta_error_w = self.backprop(x, y)\n",
    "            updated_w = [nw+dnw for nw, dnw in zip(base_w, delta_error_w)]\n",
    "            count=count+1\n",
    "        print (\"Process {0} inputs backprop \".format(count))    \n",
    "        eta=learning_rate   \n",
    "        self.weights = [w-(eta/len(batch))*nw\n",
    "                        for w, nw in zip(self.weights, updated_w)]\n",
    "        \n",
    "    def backprop(self, x, y):\n",
    "        \"\"\"Return ``( delta_w)`` representing the\n",
    "        gradient for the cost function C_x. \"\"\"\n",
    "        delta_w = [np.zeros(w.shape) for w in self.weights]\n",
    "        # feedforward\n",
    "        activation = x\n",
    "        activations = [x] # list to store all the activations, layer by layer\n",
    "        zs = [] # list to store all the activation (z) vectors, layer by layer\n",
    "        for w in (self.weights):\n",
    "            z = np.dot(w, activation)\n",
    "            zs.append(z)\n",
    "            activation = self.sigmoid(z)\n",
    "            activations.append(activation)\n",
    "        \n",
    "        # backward pass\n",
    "        delta = self.cost_derivative(activations[-1], y) * \\\n",
    "            self.sigmoid_prime(zs[-1])\n",
    "        #print \"delta is: \"\n",
    "        #print delta    \n",
    "        delta_w[-1] = np.dot(delta, activations[-2].transpose())\n",
    "\n",
    "        for l in xrange(2, self.num_layers):\n",
    "            z = zs[-l]\n",
    "            sp = self.sigmoid_prime(z)\n",
    "            #print \"sp is: \"\n",
    "            #print sp\n",
    "            #print \"first part of dot operation is: \"\n",
    "            #print self.weights[-l].transpose() \n",
    "            step1 = np.dot(self.weights[-l+1].transpose(), delta)\n",
    "            #print \"step 1 is:\"\n",
    "            #print step1\n",
    "            delta = step1 * sp\n",
    "            delta_w[-l] = np.dot(delta, activations[-l-1].transpose())\n",
    "        return (delta_w)\n",
    "\n",
    "    def evaluate(self, test_data, n_test):\n",
    "        \"\"\"Return the number of test inputs for which the neural\n",
    "        network outputs the correct result. Note that the neural\n",
    "        network's output is assumed to be the index of whichever\n",
    "        neuron in the final layer has the highest activation.\"\"\"\n",
    "        self.cost_function_by_epoch(test_data, n_test)\n",
    "        test_results = [(np.argmax(self.forward(x)), y)\n",
    "                        for (x, y) in test_data]\n",
    "        return sum(int(x == y) for (x, y) in test_results)\n",
    "\n",
    "    def cost_derivative(self, output_activations, y):\n",
    "        \"\"\"Return the vector of partial derivatives \\partial C_x /\n",
    "        \\partial a for the output activations.\"\"\"\n",
    "        return (output_activations-y)          "
   ]
  },
  {
   "cell_type": "code",
   "execution_count": 18,
   "metadata": {
    "collapsed": false
   },
   "outputs": [],
   "source": [
    "n_net = Neural_Network_PM([784, 10, 10])"
   ]
  },
  {
   "cell_type": "code",
   "execution_count": 17,
   "metadata": {
    "collapsed": false
   },
   "outputs": [
    {
     "ename": "SyntaxError",
     "evalue": "Missing parentheses in call to 'print' (<ipython-input-17-52cffe717f25>, line 2)",
     "output_type": "error",
     "traceback": [
      "\u001b[0;36m  File \u001b[0;32m\"<ipython-input-17-52cffe717f25>\"\u001b[0;36m, line \u001b[0;32m2\u001b[0m\n\u001b[0;31m    print \"Weights Matrix:\"\u001b[0m\n\u001b[0m                          ^\u001b[0m\n\u001b[0;31mSyntaxError\u001b[0m\u001b[0;31m:\u001b[0m Missing parentheses in call to 'print'\n"
     ]
    }
   ],
   "source": [
    "for w in n_net.weights :\n",
    "    print \"Weights Matrix:\"\n",
    "    pcolor(w)\n",
    "    colorbar()\n",
    "    print w.shape\n",
    "    plt.matshow(w)\n",
    "    colorbar()"
   ]
  },
  {
   "cell_type": "code",
   "execution_count": 19,
   "metadata": {
    "collapsed": false
   },
   "outputs": [
    {
     "ename": "UnicodeDecodeError",
     "evalue": "'ascii' codec can't decode byte 0x90 in position 614: ordinal not in range(128)",
     "output_type": "error",
     "traceback": [
      "\u001b[0;31m---------------------------------------------------------------------------\u001b[0m",
      "\u001b[0;31mUnicodeDecodeError\u001b[0m                        Traceback (most recent call last)",
      "\u001b[0;32m<ipython-input-19-ba6500ccf10a>\u001b[0m in \u001b[0;36m<module>\u001b[0;34m()\u001b[0m\n\u001b[1;32m      1\u001b[0m \u001b[0;34m\u001b[0m\u001b[0m\n\u001b[0;32m----> 2\u001b[0;31m \u001b[0mtraining_data\u001b[0m\u001b[0;34m,\u001b[0m \u001b[0mvalidation_data\u001b[0m\u001b[0;34m,\u001b[0m \u001b[0mtest_data\u001b[0m \u001b[0;34m=\u001b[0m \u001b[0mload_data_wrapper\u001b[0m\u001b[0;34m(\u001b[0m\u001b[0;34m)\u001b[0m\u001b[0;34m\u001b[0m\u001b[0m\n\u001b[0m",
      "\u001b[0;32m<ipython-input-10-9eb70a9af5c5>\u001b[0m in \u001b[0;36mload_data_wrapper\u001b[0;34m()\u001b[0m\n\u001b[1;32m     24\u001b[0m \u001b[0;34m\u001b[0m\u001b[0m\n\u001b[1;32m     25\u001b[0m     \"\"\"\n\u001b[0;32m---> 26\u001b[0;31m     \u001b[0mtr_d\u001b[0m\u001b[0;34m,\u001b[0m \u001b[0mva_d\u001b[0m\u001b[0;34m,\u001b[0m \u001b[0mte_d\u001b[0m \u001b[0;34m=\u001b[0m \u001b[0mload_data\u001b[0m\u001b[0;34m(\u001b[0m\u001b[0;34m)\u001b[0m\u001b[0;34m\u001b[0m\u001b[0m\n\u001b[0m\u001b[1;32m     27\u001b[0m     \u001b[0mtraining_inputs\u001b[0m \u001b[0;34m=\u001b[0m \u001b[0;34m[\u001b[0m\u001b[0mnp\u001b[0m\u001b[0;34m.\u001b[0m\u001b[0mreshape\u001b[0m\u001b[0;34m(\u001b[0m\u001b[0mx\u001b[0m\u001b[0;34m,\u001b[0m \u001b[0;34m(\u001b[0m\u001b[0;36m784\u001b[0m\u001b[0;34m,\u001b[0m \u001b[0;36m1\u001b[0m\u001b[0;34m)\u001b[0m\u001b[0;34m)\u001b[0m \u001b[0;32mfor\u001b[0m \u001b[0mx\u001b[0m \u001b[0;32min\u001b[0m \u001b[0mtr_d\u001b[0m\u001b[0;34m[\u001b[0m\u001b[0;36m0\u001b[0m\u001b[0;34m]\u001b[0m\u001b[0;34m]\u001b[0m\u001b[0;34m\u001b[0m\u001b[0m\n\u001b[1;32m     28\u001b[0m     \u001b[0mtraining_results\u001b[0m \u001b[0;34m=\u001b[0m \u001b[0;34m[\u001b[0m\u001b[0mvectorized_result\u001b[0m\u001b[0;34m(\u001b[0m\u001b[0my\u001b[0m\u001b[0;34m)\u001b[0m \u001b[0;32mfor\u001b[0m \u001b[0my\u001b[0m \u001b[0;32min\u001b[0m \u001b[0mtr_d\u001b[0m\u001b[0;34m[\u001b[0m\u001b[0;36m1\u001b[0m\u001b[0;34m]\u001b[0m\u001b[0;34m]\u001b[0m\u001b[0;34m\u001b[0m\u001b[0m\n",
      "\u001b[0;32m<ipython-input-10-9eb70a9af5c5>\u001b[0m in \u001b[0;36mload_data\u001b[0;34m()\u001b[0m\n\u001b[1;32m      5\u001b[0m \u001b[0;32mdef\u001b[0m \u001b[0mload_data\u001b[0m\u001b[0;34m(\u001b[0m\u001b[0;34m)\u001b[0m\u001b[0;34m:\u001b[0m\u001b[0;34m\u001b[0m\u001b[0m\n\u001b[1;32m      6\u001b[0m     \u001b[0mf\u001b[0m \u001b[0;34m=\u001b[0m \u001b[0mgzip\u001b[0m\u001b[0;34m.\u001b[0m\u001b[0mopen\u001b[0m\u001b[0;34m(\u001b[0m\u001b[0;34m'data/mnist.pkl.gz'\u001b[0m\u001b[0;34m,\u001b[0m \u001b[0;34m'rb'\u001b[0m\u001b[0;34m)\u001b[0m\u001b[0;34m\u001b[0m\u001b[0m\n\u001b[0;32m----> 7\u001b[0;31m     \u001b[0mtraining_data\u001b[0m\u001b[0;34m,\u001b[0m \u001b[0mvalidation_data\u001b[0m\u001b[0;34m,\u001b[0m \u001b[0mtest_data\u001b[0m \u001b[0;34m=\u001b[0m \u001b[0mpickle\u001b[0m\u001b[0;34m.\u001b[0m\u001b[0mload\u001b[0m\u001b[0;34m(\u001b[0m\u001b[0;34m(\u001b[0m\u001b[0mf\u001b[0m\u001b[0;34m)\u001b[0m\u001b[0;34m)\u001b[0m\u001b[0;34m\u001b[0m\u001b[0m\n\u001b[0m\u001b[1;32m      8\u001b[0m     \u001b[0mf\u001b[0m\u001b[0;34m.\u001b[0m\u001b[0mclose\u001b[0m\u001b[0;34m(\u001b[0m\u001b[0;34m)\u001b[0m\u001b[0;34m\u001b[0m\u001b[0m\n\u001b[1;32m      9\u001b[0m     \u001b[0;32mreturn\u001b[0m \u001b[0;34m(\u001b[0m\u001b[0mtraining_data\u001b[0m\u001b[0;34m,\u001b[0m \u001b[0mvalidation_data\u001b[0m\u001b[0;34m,\u001b[0m \u001b[0mtest_data\u001b[0m\u001b[0;34m)\u001b[0m\u001b[0;34m\u001b[0m\u001b[0m\n",
      "\u001b[0;31mUnicodeDecodeError\u001b[0m: 'ascii' codec can't decode byte 0x90 in position 614: ordinal not in range(128)"
     ]
    }
   ],
   "source": [
    "\n",
    "training_data, validation_data, test_data = load_data_wrapper()"
   ]
  },
  {
   "cell_type": "code",
   "execution_count": 20,
   "metadata": {
    "collapsed": false,
    "run_control": {
     "marked": true
    }
   },
   "outputs": [
    {
     "ename": "SyntaxError",
     "evalue": "Missing parentheses in call to 'print' (<ipython-input-20-392302c24a02>, line 5)",
     "output_type": "error",
     "traceback": [
      "\u001b[0;36m  File \u001b[0;32m\"<ipython-input-20-392302c24a02>\"\u001b[0;36m, line \u001b[0;32m5\u001b[0m\n\u001b[0;31m    print costs\u001b[0m\n\u001b[0m              ^\u001b[0m\n\u001b[0;31mSyntaxError\u001b[0m\u001b[0;31m:\u001b[0m Missing parentheses in call to 'print'\n"
     ]
    }
   ],
   "source": [
    "#costs = [0.5*(sum(y-n_net.forward(x))) for (x, y) in training_data[48000:]]\n",
    "y = [(np.argmax(n_net.forward(x))) for (x, y) in test_data[500:1000]]\n",
    "y_hat = [(y) for (x, y) in test_data[500:1000]]\n",
    "costs = 0.5*((y-y_hat)**2)\n",
    "print costs\n"
   ]
  },
  {
   "cell_type": "code",
   "execution_count": 21,
   "metadata": {
    "collapsed": false,
    "scrolled": true
   },
   "outputs": [],
   "source": [
    "#n_net.SGD_incremental(training_data[40000:], 2, 1.5, test_data=test_data)"
   ]
  },
  {
   "cell_type": "code",
   "execution_count": 22,
   "metadata": {
    "collapsed": false,
    "scrolled": true
   },
   "outputs": [],
   "source": [
    "#n_net.SGD_batchwise(training_data[500:], 1000, 1000, 1.5, test_data=test_data)"
   ]
  },
  {
   "cell_type": "code",
   "execution_count": 23,
   "metadata": {
    "collapsed": false
   },
   "outputs": [
    {
     "ename": "NameError",
     "evalue": "name 'training_data' is not defined",
     "output_type": "error",
     "traceback": [
      "\u001b[0;31m---------------------------------------------------------------------------\u001b[0m",
      "\u001b[0;31mNameError\u001b[0m                                 Traceback (most recent call last)",
      "\u001b[0;32m<ipython-input-23-f7658899c7ab>\u001b[0m in \u001b[0;36m<module>\u001b[0;34m()\u001b[0m\n\u001b[0;32m----> 1\u001b[0;31m \u001b[0mn_net\u001b[0m\u001b[0;34m.\u001b[0m\u001b[0mGD\u001b[0m\u001b[0;34m(\u001b[0m\u001b[0mtraining_data\u001b[0m\u001b[0;34m[\u001b[0m\u001b[0;36m1000\u001b[0m\u001b[0;34m:\u001b[0m\u001b[0;34m]\u001b[0m\u001b[0;34m,\u001b[0m \u001b[0;36m4\u001b[0m\u001b[0;34m,\u001b[0m \u001b[0;36m5000\u001b[0m\u001b[0;34m,\u001b[0m \u001b[0mtest_data\u001b[0m\u001b[0;34m=\u001b[0m\u001b[0mtest_data\u001b[0m\u001b[0;34m)\u001b[0m\u001b[0;34m\u001b[0m\u001b[0m\n\u001b[0m",
      "\u001b[0;31mNameError\u001b[0m: name 'training_data' is not defined"
     ]
    }
   ],
   "source": [
    "n_net.GD(training_data[1000:], 4, 5000, test_data=test_data)"
   ]
  },
  {
   "cell_type": "code",
   "execution_count": 53,
   "metadata": {
    "collapsed": false
   },
   "outputs": [
    {
     "name": "stdout",
     "output_type": "stream",
     "text": [
      "Process 45000 inputs backprop \n"
     ]
    }
   ],
   "source": [
    "X=training_data[5000:]\n",
    "n_net.process_input(X[0:], 2)\n"
   ]
  },
  {
   "cell_type": "code",
   "execution_count": 175,
   "metadata": {
    "collapsed": false,
    "run_control": {
     "marked": true
    }
   },
   "outputs": [],
   "source": [
    "#costs = [0.5*(sum(y-n_net.forward(x))) for (x, y) in training_data[48000:]]\n",
    "y = [(np.argmax(n_net.forward(x))) for (x, y) in test_data[9500:]]\n",
    "y_hat = [(y) for (x, y) in test_data[9500:]]\n",
    "costs = 0.5*((y-y_hat)**2)"
   ]
  },
  {
   "cell_type": "code",
   "execution_count": 176,
   "metadata": {
    "collapsed": false
   },
   "outputs": [
    {
     "data": {
      "text/plain": [
       "<matplotlib.text.Text at 0x1087f8650>"
      ]
     },
     "execution_count": 176,
     "metadata": {},
     "output_type": "execute_result"
    },
    {
     "data": {
      "image/png": "[encoded data removed]",
      "text/plain": [
       "<matplotlib.figure.Figure at 0x109534410>"
      ]
     },
     "metadata": {},
     "output_type": "display_data"
    }
   ],
   "source": [
    "plot(costs)\n",
    "grid(1)\n",
    "xlabel('Iterations')\n",
    "ylabel('Cost')"
   ]
  },
  {
   "cell_type": "code",
   "execution_count": 177,
   "metadata": {
    "collapsed": false
   },
   "outputs": [
    {
     "name": "stdout",
     "output_type": "stream",
     "text": [
      "Weights Matrix:\n",
      "(10, 784)\n",
      "Weights Matrix:\n",
      "(10, 10)\n"
     ]
    },
    {
     "data": {
      "image/png": "[encoded data removed]",
      "text/plain": [
       "<matplotlib.figure.Figure at 0x110cde210>"
      ]
     },
     "metadata": {},
     "output_type": "display_data"
    },
    {
     "data": {
      "image/png": "[encoded data removed]",
      "text/plain": [
       "<matplotlib.figure.Figure at 0x10c484110>"
      ]
     },
     "metadata": {},
     "output_type": "display_data"
    },
    {
     "data": {
      "image/png": "[encoded data removed]",
      "text/plain": [
       "<matplotlib.figure.Figure at 0x1088ae890>"
      ]
     },
     "metadata": {},
     "output_type": "display_data"
    }
   ],
   "source": [
    "for w in n_net.weights :\n",
    "    print \"Weights Matrix:\"\n",
    "    pcolor(w)\n",
    "    colorbar()\n",
    "    print w.shape\n",
    "    plt.matshow(w)\n",
    "    colorbar()"
   ]
  },
  {
   "cell_type": "code",
   "execution_count": 62,
   "metadata": {
    "collapsed": false
   },
   "outputs": [
    {
     "data": {
      "text/plain": [
       "<matplotlib.text.Text at 0x10d77c2d0>"
      ]
     },
     "execution_count": 62,
     "metadata": {},
     "output_type": "execute_result"
    },
    {
     "data": {
      "image/png": "[encoded data removed]",
      "text/plain": [
       "<matplotlib.figure.Figure at 0x107b40c50>"
      ]
     },
     "metadata": {},
     "output_type": "display_data"
    }
   ],
   "source": [
    "plot(n_net.costs)\n",
    "grid(1)\n",
    "xlabel('Iterations')\n",
    "ylabel('Cost')"
   ]
  },
  {
   "cell_type": "code",
   "execution_count": null,
   "metadata": {
    "collapsed": true
   },
   "outputs": [],
   "source": []
  },
  {
   "cell_type": "markdown",
   "metadata": {
    "collapsed": true
   },
   "source": [
    "TODO:\n",
    "-bias vs variance\n",
    "-rbf neural network\n",
    "-svm kernals"
   ]
  }
 ],
 "metadata": {
  "anaconda-cloud": {},
  "kernelspec": {
   "display_name": "Python [Root]",
   "language": "python",
   "name": "Python [Root]"
  },
  "language_info": {
   "codemirror_mode": {
    "name": "ipython",
    "version": 3
   },
   "file_extension": ".py",
   "mimetype": "text/x-python",
   "name": "python",
   "nbconvert_exporter": "python",
   "pygments_lexer": "ipython3",
   "version": "3.5.2"
  },
  "latex_envs": {
   "bibliofile": "biblio.bib",
   "cite_by": "apalike",
   "current_citInitial": 1,
   "eqLabelWithNumbers": true,
   "eqNumInitial": 0
  },
  "toc": {
   "toc_cell": true,
   "toc_number_sections": true,
   "toc_threshold": "6",
   "toc_window_display": true
  }
 },
 "nbformat": 4,
 "nbformat_minor": 0
}
